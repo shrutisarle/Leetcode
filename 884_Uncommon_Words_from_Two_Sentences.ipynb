{
 "cells": [
  {
   "cell_type": "code",
   "execution_count": null,
   "metadata": {},
   "outputs": [],
   "source": [
    "class Solution:\n",
    "    def uncommonFromSentences(self, s1: str, s2: str) -> List[str]:\n",
    "        count = {}\n",
    "        for word in s1.split():\n",
    "            count[word] = count.get(word, 0) + 1\n",
    "        for word in s2.split():\n",
    "            count[word] = count.get(word, 0) + 1\n",
    "        lst = []\n",
    "        for word in count:\n",
    "            if count[word] == 1:\n",
    "                lst.append(word)\n",
    "        return lst\n",
    "        # return [word for word in count if count[word] == 1]\n"
   ]
  }
 ],
 "metadata": {
  "kernelspec": {
   "display_name": "Python 3",
   "language": "python",
   "name": "python3"
  },
  "language_info": {
   "codemirror_mode": {
    "name": "ipython",
    "version": 3
   },
   "file_extension": ".py",
   "mimetype": "text/x-python",
   "name": "python",
   "nbconvert_exporter": "python",
   "pygments_lexer": "ipython3",
   "version": "3.8.5"
  }
 },
 "nbformat": 4,
 "nbformat_minor": 4
}
