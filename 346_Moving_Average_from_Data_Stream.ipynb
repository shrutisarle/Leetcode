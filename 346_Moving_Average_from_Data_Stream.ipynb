{
 "cells": [
  {
   "cell_type": "code",
   "execution_count": null,
   "metadata": {},
   "outputs": [],
   "source": [
    "class MovingAverage:\n",
    "\n",
    "    def __init__(self, size: int):\n",
    "        \"\"\"\n",
    "        Initialize your data structure here.\n",
    "        \"\"\"\n",
    "        self.size = size\n",
    "        self.storage = list()\n",
    "        \n",
    "\n",
    "    def next(self, val: int) -> float:\n",
    "        self.storage.append(val)\n",
    "        if len(self.storage) > self.size:\n",
    "            del self.storage[0]\n",
    "            return (sum(self.storage)/len(self.storage))\n",
    "        else:\n",
    "            return (sum(self.storage)/len(self.storage))\n",
    "\n",
    "\n",
    "# TC: O(N)\n",
    "# SC: O(N)"
   ]
  }
 ],
 "metadata": {
  "kernelspec": {
   "display_name": "Python 3",
   "language": "python",
   "name": "python3"
  },
  "language_info": {
   "codemirror_mode": {
    "name": "ipython",
    "version": 3
   },
   "file_extension": ".py",
   "mimetype": "text/x-python",
   "name": "python",
   "nbconvert_exporter": "python",
   "pygments_lexer": "ipython3",
   "version": "3.8.5"
  }
 },
 "nbformat": 4,
 "nbformat_minor": 4
}
