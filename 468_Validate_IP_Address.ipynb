{
 "cells": [
  {
   "cell_type": "code",
   "execution_count": 1,
   "metadata": {},
   "outputs": [],
   "source": [
    "class Solution:\n",
    "    def validIPAddress(self, IP: str) -> str:\n",
    "        def isipv4(s):\n",
    "            try:\n",
    "                return str(int(s)) ==s and 0 <= int(s) <= 255\n",
    "            except:\n",
    "                return False\n",
    "            \n",
    "        def isipv6(s):\n",
    "            if len(s) > 4:\n",
    "                return False\n",
    "            \n",
    "            # to check if any symbol present like - / etc\n",
    "            if re.match(\"/W\", s):\n",
    "                return False\n",
    "            try:\n",
    "                # to check the string is hexadecimal\n",
    "                int(s,16)\n",
    "                return True\n",
    "            except:\n",
    "                return False\n",
    "            \n",
    "        ipv4 = IP.split(\".\")\n",
    "        ipv6 = IP.split(\":\")\n",
    "        \n",
    "        # all(isipv4(n) for n in ipv4 --> to check if function satisfies for numbers in string\n",
    "        if len(ipv4) == 4 and all(isipv4(n) for n in ipv4):\n",
    "            return \"IPv4\"\n",
    "        if len(ipv6) == 8 and all(isipv6(n) for n in ipv6):\n",
    "            return \"IPv6\"\n",
    "        \n",
    "        return \"Neither\"\n",
    "        "
   ]
  },
  {
   "cell_type": "code",
   "execution_count": null,
   "metadata": {},
   "outputs": [],
   "source": []
  }
 ],
 "metadata": {
  "kernelspec": {
   "display_name": "Python 3",
   "language": "python",
   "name": "python3"
  },
  "language_info": {
   "codemirror_mode": {
    "name": "ipython",
    "version": 3
   },
   "file_extension": ".py",
   "mimetype": "text/x-python",
   "name": "python",
   "nbconvert_exporter": "python",
   "pygments_lexer": "ipython3",
   "version": "3.8.5"
  }
 },
 "nbformat": 4,
 "nbformat_minor": 4
}
