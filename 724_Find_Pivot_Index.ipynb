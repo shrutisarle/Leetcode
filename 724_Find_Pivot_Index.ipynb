{
 "cells": [
  {
   "cell_type": "code",
   "execution_count": 1,
   "metadata": {},
   "outputs": [
    {
     "name": "stdout",
     "output_type": "stream",
     "text": [
      "3\n"
     ]
    }
   ],
   "source": [
    "class Solution:\n",
    "    def pivotIndex(self, nums):\n",
    "        n = len(nums)\n",
    "        total = sum(nums)\n",
    "        right = total\n",
    "        left = 0\n",
    "        for i in range(n):\n",
    "            \n",
    "            right = right-nums[i]\n",
    "\n",
    "            if left == right:\n",
    "                return i\n",
    "            left = left + nums[i] \n",
    "        return -1\n",
    "    \n",
    "\n",
    "if __name__ == '__main__':\n",
    "    # begin\n",
    "    s = Solution()\n",
    "    print (s.pivotIndex([1,7,3,6,5,6]))"
   ]
  },
  {
   "cell_type": "code",
   "execution_count": null,
   "metadata": {},
   "outputs": [],
   "source": []
  }
 ],
 "metadata": {
  "kernelspec": {
   "display_name": "Python 3",
   "language": "python",
   "name": "python3"
  },
  "language_info": {
   "codemirror_mode": {
    "name": "ipython",
    "version": 3
   },
   "file_extension": ".py",
   "mimetype": "text/x-python",
   "name": "python",
   "nbconvert_exporter": "python",
   "pygments_lexer": "ipython3",
   "version": "3.8.5"
  }
 },
 "nbformat": 4,
 "nbformat_minor": 4
}
