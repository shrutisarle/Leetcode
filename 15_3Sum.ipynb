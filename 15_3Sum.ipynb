{
 "cells": [
  {
   "cell_type": "code",
   "execution_count": 2,
   "metadata": {},
   "outputs": [],
   "source": [
    "class Solution:\n",
    "    def threeSum(self, nums):\n",
    "        n = len(nums)     \n",
    "        lst = []\n",
    "        nums.sort()\n",
    "        for i in range(0,n-1):\n",
    "            l = i+1\n",
    "            r = n-1\n",
    "            while l<r:\n",
    "                currSum = nums[l]+nums[r]+nums[i]\n",
    "                if currSum == 0:\n",
    "                    lst.append([nums[i],nums[l],nums[r]]) \n",
    "                    l+=1\n",
    "                    r-=1\n",
    "                elif currSum<0:\n",
    "                        l+=1\n",
    "                else:\n",
    "                    r-=1\n",
    "        return set([tuple(x) for x in lst])\n",
    "    \n",
    "# TC: O(n^2)\n",
    "# SC: O(n)"
   ]
  },
  {
   "cell_type": "code",
   "execution_count": null,
   "metadata": {},
   "outputs": [],
   "source": []
  }
 ],
 "metadata": {
  "kernelspec": {
   "display_name": "Python 3",
   "language": "python",
   "name": "python3"
  },
  "language_info": {
   "codemirror_mode": {
    "name": "ipython",
    "version": 3
   },
   "file_extension": ".py",
   "mimetype": "text/x-python",
   "name": "python",
   "nbconvert_exporter": "python",
   "pygments_lexer": "ipython3",
   "version": "3.8.5"
  }
 },
 "nbformat": 4,
 "nbformat_minor": 4
}
