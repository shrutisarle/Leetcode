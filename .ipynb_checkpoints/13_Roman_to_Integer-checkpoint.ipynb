{
 "cells": [
  {
   "cell_type": "code",
   "execution_count": null,
   "metadata": {},
   "outputs": [],
   "source": [
    "class Solution:\n",
    "    def romanToInt(self, s: str) -> int:\n",
    "        # lets create map\n",
    "        lookup = {\n",
    "            \"I\":1,\n",
    "            \"V\":5,\n",
    "            \"X\":10,\n",
    "            \"L\":50,\n",
    "            \"C\":100,\n",
    "            \"D\":500,\n",
    "            \"M\" :1000           \n",
    "        }\n",
    "\n",
    "#         going backwords\n",
    "        N = len(s)\n",
    "        # pointer which will start at end\n",
    "        i = N-1\n",
    "        output = 0\n",
    "        while i >= 0:\n",
    "            #if lower number is coming before the higher number then\n",
    "            if i < N-1 and lookup[s[i]] < lookup[s[i+1]]: # lookup[s[i+1] lookup at one after\n",
    "            # if that happens then we should substarct this value\n",
    "                output -= lookup[s[i]]\n",
    "            else:\n",
    "            # normally we should just add it to answer\n",
    "                output += lookup[s[i]]\n",
    "            i -= 1\n",
    "        return output\n",
    "    \n",
    "    \n",
    "\n",
    "    "
   ]
  }
 ],
 "metadata": {
  "kernelspec": {
   "display_name": "Python 3",
   "language": "python",
   "name": "python3"
  },
  "language_info": {
   "codemirror_mode": {
    "name": "ipython",
    "version": 3
   },
   "file_extension": ".py",
   "mimetype": "text/x-python",
   "name": "python",
   "nbconvert_exporter": "python",
   "pygments_lexer": "ipython3",
   "version": "3.8.5"
  }
 },
 "nbformat": 4,
 "nbformat_minor": 4
}
