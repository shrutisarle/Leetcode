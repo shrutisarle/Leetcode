{
 "cells": [
  {
   "cell_type": "code",
   "execution_count": null,
   "metadata": {},
   "outputs": [],
   "source": [
    "class Solution:\n",
    "    def sortColors(self, nums: List[int]) -> None:\n",
    "        \"\"\"\n",
    "        Do not return anything, modify nums in-place instead.\n",
    "        \"\"\"\n",
    "        l = 0\n",
    "        current = 0\n",
    "        r = len(nums)-1\n",
    "        \n",
    "        while current <= r:\n",
    "            if nums[current] == 0:\n",
    "                nums[l],nums[current] = nums[current],nums[l]\n",
    "                l += 1\n",
    "                current += 1\n",
    "                    \n",
    "            elif nums[current] == 2:\n",
    "                nums[current],nums[r] = nums[r],nums[current]\n",
    "                r -= 1\n",
    "            else:\n",
    "                current += 1\n",
    "                \n"
   ]
  },
  {
   "cell_type": "code",
   "execution_count": null,
   "metadata": {},
   "outputs": [],
   "source": []
  }
 ],
 "metadata": {
  "kernelspec": {
   "display_name": "Python 3",
   "language": "python",
   "name": "python3"
  },
  "language_info": {
   "codemirror_mode": {
    "name": "ipython",
    "version": 3
   },
   "file_extension": ".py",
   "mimetype": "text/x-python",
   "name": "python",
   "nbconvert_exporter": "python",
   "pygments_lexer": "ipython3",
   "version": "3.8.5"
  }
 },
 "nbformat": 4,
 "nbformat_minor": 4
}
