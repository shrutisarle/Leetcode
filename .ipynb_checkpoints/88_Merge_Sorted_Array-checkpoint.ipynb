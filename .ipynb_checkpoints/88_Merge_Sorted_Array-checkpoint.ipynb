{
 "cells": [
  {
   "cell_type": "code",
   "execution_count": 5,
   "metadata": {},
   "outputs": [],
   "source": [
    "class Solution:\n",
    "    \n",
    "    # Brute Force\n",
    "    # def merge(self, nums1: List[int], m: int, nums2: List[int], n: int) -> None:\n",
    "    #     \"\"\"\n",
    "    #     Do not return anything, modify nums1 in-place instead.\n",
    "    #     \"\"\"\n",
    "    #     for i in range(n):\n",
    "    #         nums1[i+m] = nums2[i]\n",
    "    #     nums1.sort()\n",
    "    \n",
    "    # TC :  O((n+m)log(n+m))\n",
    "    # SC :  O(n)\n",
    " \n",
    "\n",
    "\n",
    "\n",
    "    def merge(self, nums1, m, nums2, n):\n",
    "        \"\"\"\n",
    "        Do not return anything, modify nums1 in-place instead.\n",
    "        \n",
    "        \"\"\"\n",
    "        # calculating last index\n",
    "        last = m+n-1\n",
    "        \n",
    "        # till arrays are not empty\n",
    "        while m > 0 and n > 0:\n",
    "            # if nums1 last element > num2 last element\n",
    "            if nums1[m-1] > nums2[n-1]:\n",
    "                nums1[last] = nums1[m-1]\n",
    "                m -= 1\n",
    "            else:\n",
    "                nums1[last] = nums2[n-1]\n",
    "                n -= 1\n",
    "            last -= 1\n",
    "            \n",
    "        # filling num2's remaining elements in num1\n",
    "        while n > 0:\n",
    "            nums1[last] = nums2[n-1]\n",
    "            n -= 1\n",
    "            last -= 1\n",
    "\n",
    "# TC :  O(n)\n",
    "# SC :  O(1)"
   ]
  },
  {
   "cell_type": "code",
   "execution_count": null,
   "metadata": {},
   "outputs": [],
   "source": []
  }
 ],
 "metadata": {
  "kernelspec": {
   "display_name": "Python 3",
   "language": "python",
   "name": "python3"
  },
  "language_info": {
   "codemirror_mode": {
    "name": "ipython",
    "version": 3
   },
   "file_extension": ".py",
   "mimetype": "text/x-python",
   "name": "python",
   "nbconvert_exporter": "python",
   "pygments_lexer": "ipython3",
   "version": "3.8.5"
  }
 },
 "nbformat": 4,
 "nbformat_minor": 4
}
