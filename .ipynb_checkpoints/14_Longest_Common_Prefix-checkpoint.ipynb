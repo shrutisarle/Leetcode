{
 "cells": [
  {
   "cell_type": "code",
   "execution_count": null,
   "metadata": {},
   "outputs": [],
   "source": [
    "class Solution:\n",
    "    def longestCommonPrefix(self, strs: List[str]) -> str:\n",
    "        if len(strs) == 0:\n",
    "            return \"\"\n",
    "        minlength = len(strs[0])\n",
    "        for i in range(len(strs)):\n",
    "            minlength = min(minlength,len(strs[i]))\n",
    "        \n",
    "        blank = \"\"\n",
    "        i = 0\n",
    "        while i < minlength:\n",
    "            char = strs[0][i]\n",
    "\n",
    "            for j in range(1,len(strs)):\n",
    "                if strs[j][i] != char:\n",
    "                    return blank\n",
    "                \n",
    "            blank = blank + char\n",
    "            i += 1\n",
    "        return blank\n",
    "    \n",
    "# Time complexity : O(S). Where S is the sum of all characters in all strings.\n",
    "# Space complexity : O(1). We only used constant extra space."
   ]
  }
 ],
 "metadata": {
  "kernelspec": {
   "display_name": "Python 3",
   "language": "python",
   "name": "python3"
  },
  "language_info": {
   "codemirror_mode": {
    "name": "ipython",
    "version": 3
   },
   "file_extension": ".py",
   "mimetype": "text/x-python",
   "name": "python",
   "nbconvert_exporter": "python",
   "pygments_lexer": "ipython3",
   "version": "3.8.5"
  }
 },
 "nbformat": 4,
 "nbformat_minor": 4
}
