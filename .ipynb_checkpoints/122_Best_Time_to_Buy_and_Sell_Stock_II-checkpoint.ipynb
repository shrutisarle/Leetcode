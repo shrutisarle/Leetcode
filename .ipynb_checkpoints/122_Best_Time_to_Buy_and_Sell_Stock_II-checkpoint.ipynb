{
 "cells": [
  {
   "cell_type": "code",
   "execution_count": 1,
   "metadata": {},
   "outputs": [
    {
     "name": "stdout",
     "output_type": "stream",
     "text": [
      "7\n"
     ]
    }
   ],
   "source": [
    "class Solution:\n",
    "    def maxProfit(self, prices):\n",
    "        n = len(prices)\n",
    "        profit = 0\n",
    "        for i in range(1,n):\n",
    "            \n",
    "            # if next index is higher then only we will add profit to profit\n",
    "            if prices[i] > prices[i-1]:\n",
    "                profit = profit + (prices[i] - prices[i-1])\n",
    "        return profit\n",
    "    \n",
    "if __name__ == '__main__':\n",
    "    # begin\n",
    "    s = Solution()\n",
    "    print (s.maxProfit([7,1,5,3,6,4])) \n",
    "\n",
    "    \n",
    "# TC: O(N)\n",
    "# SC: O(1)"
   ]
  },
  {
   "cell_type": "code",
   "execution_count": null,
   "metadata": {},
   "outputs": [],
   "source": []
  }
 ],
 "metadata": {
  "kernelspec": {
   "display_name": "Python 3",
   "language": "python",
   "name": "python3"
  },
  "language_info": {
   "codemirror_mode": {
    "name": "ipython",
    "version": 3
   },
   "file_extension": ".py",
   "mimetype": "text/x-python",
   "name": "python",
   "nbconvert_exporter": "python",
   "pygments_lexer": "ipython3",
   "version": "3.8.5"
  }
 },
 "nbformat": 4,
 "nbformat_minor": 4
}
