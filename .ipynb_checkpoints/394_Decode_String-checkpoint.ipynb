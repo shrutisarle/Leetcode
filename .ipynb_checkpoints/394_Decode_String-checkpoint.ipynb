{
 "cells": [
  {
   "cell_type": "code",
   "execution_count": 1,
   "metadata": {},
   "outputs": [],
   "source": [
    "class Solution:\n",
    "    def decodeString(self, s: str) -> str:\n",
    "        l = len(s)\n",
    "        stack = []\n",
    "        for i in range(l):\n",
    "            if s[i] != \"]\":\n",
    "                stack.append(s[i])\n",
    "            else:\n",
    "                substr = \"\"\n",
    "                while stack[-1] != \"[\":\n",
    "                    substr = stack.pop() + substr\n",
    "                stack.pop()\n",
    "                \n",
    "                k = \"\"\n",
    "                while stack and stack[-1].isdigit():\n",
    "                    k = stack.pop() + k\n",
    "                stack.append(int(k)*substr)\n",
    "                \n",
    "        return \"\".join(stack)"
   ]
  },
  {
   "cell_type": "code",
   "execution_count": null,
   "metadata": {},
   "outputs": [],
   "source": []
  }
 ],
 "metadata": {
  "kernelspec": {
   "display_name": "Python 3",
   "language": "python",
   "name": "python3"
  },
  "language_info": {
   "codemirror_mode": {
    "name": "ipython",
    "version": 3
   },
   "file_extension": ".py",
   "mimetype": "text/x-python",
   "name": "python",
   "nbconvert_exporter": "python",
   "pygments_lexer": "ipython3",
   "version": "3.8.5"
  }
 },
 "nbformat": 4,
 "nbformat_minor": 4
}
