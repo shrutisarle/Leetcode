{
 "cells": [
  {
   "cell_type": "code",
   "execution_count": 7,
   "metadata": {},
   "outputs": [
    {
     "name": "stdout",
     "output_type": "stream",
     "text": [
      "True\n",
      "False\n"
     ]
    }
   ],
   "source": [
    "class Solution:\n",
    "    def isAlienSorted(self, words, order):\n",
    "        dic = {c:i for i, c in enumerate(order)}\n",
    "        \n",
    "        for i in range(len(words)-1):\n",
    "            w1 = words[i]\n",
    "            w2 = words[i+1]\n",
    "            for l in range(len(w1)):\n",
    "                if l == len(w2):\n",
    "                    return False\n",
    "                \n",
    "                if w1[l] != w2[l]:\n",
    "                    if dic[w1[l]] > dic[w2[l]]:\n",
    "                        return False\n",
    "                    break\n",
    "        return True\n",
    "if __name__ == '__main__':\n",
    "    # begin\n",
    "    s = Solution()\n",
    "    print (s.isAlienSorted([\"hello\",\"leetcode\"],\"hlabcdefgijkmnopqrstuvwxyz\")) \n",
    "    print (s.isAlienSorted([\"word\",\"world\",\"row\"],\"worldabcefghijkmnpqstuvxyz\")) "
   ]
  },
  {
   "cell_type": "code",
   "execution_count": null,
   "metadata": {},
   "outputs": [],
   "source": []
  }
 ],
 "metadata": {
  "kernelspec": {
   "display_name": "Python 3",
   "language": "python",
   "name": "python3"
  },
  "language_info": {
   "codemirror_mode": {
    "name": "ipython",
    "version": 3
   },
   "file_extension": ".py",
   "mimetype": "text/x-python",
   "name": "python",
   "nbconvert_exporter": "python",
   "pygments_lexer": "ipython3",
   "version": "3.8.5"
  }
 },
 "nbformat": 4,
 "nbformat_minor": 4
}
