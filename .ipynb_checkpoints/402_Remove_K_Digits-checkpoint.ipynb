{
 "cells": [
  {
   "cell_type": "code",
   "execution_count": 1,
   "metadata": {},
   "outputs": [],
   "source": [
    "class Solution:\n",
    "    def removeKdigits(self, num: str, k: int) -> str:\n",
    "        stack = []\n",
    "        numbers_to_remove = k\n",
    "        for current_element in num:\n",
    "            while numbers_to_remove and stack and current_element < stack[-1]:\n",
    "                stack.pop()\n",
    "                numbers_to_remove -= 1\n",
    "            stack.append(current_element)\n",
    "        ans = \"\".join(stack[0:len(num)-k]).lstrip(\"0\")\n",
    "        if len(ans):\n",
    "            return ans\n",
    "        else:\n",
    "            return \"0\""
   ]
  },
  {
   "cell_type": "code",
   "execution_count": null,
   "metadata": {},
   "outputs": [],
   "source": []
  }
 ],
 "metadata": {
  "kernelspec": {
   "display_name": "Python 3",
   "language": "python",
   "name": "python3"
  },
  "language_info": {
   "codemirror_mode": {
    "name": "ipython",
    "version": 3
   },
   "file_extension": ".py",
   "mimetype": "text/x-python",
   "name": "python",
   "nbconvert_exporter": "python",
   "pygments_lexer": "ipython3",
   "version": "3.8.5"
  }
 },
 "nbformat": 4,
 "nbformat_minor": 4
}
