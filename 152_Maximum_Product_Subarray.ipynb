{
 "cells": [
  {
   "cell_type": "code",
   "execution_count": 2,
   "metadata": {},
   "outputs": [],
   "source": [
    "class Solution:\n",
    "    def maxProduct(self, nums):\n",
    "        res = max(nums)\n",
    "        curMax, curMin = 1, 1\n",
    "        for n in nums:\n",
    "            tmp = n*curMax\n",
    "            curMax = max(n*curMax, n*curMin, n)\n",
    "            curMin = min(tmp, n*curMin, n)\n",
    "            res = max(res,curMax)\n",
    "        return res\n",
    "    \n",
    "# TC: O(N)\n",
    "# SC: O(1)\n"
   ]
  },
  {
   "cell_type": "code",
   "execution_count": null,
   "metadata": {},
   "outputs": [],
   "source": []
  }
 ],
 "metadata": {
  "kernelspec": {
   "display_name": "Python 3",
   "language": "python",
   "name": "python3"
  },
  "language_info": {
   "codemirror_mode": {
    "name": "ipython",
    "version": 3
   },
   "file_extension": ".py",
   "mimetype": "text/x-python",
   "name": "python",
   "nbconvert_exporter": "python",
   "pygments_lexer": "ipython3",
   "version": "3.8.5"
  }
 },
 "nbformat": 4,
 "nbformat_minor": 4
}
