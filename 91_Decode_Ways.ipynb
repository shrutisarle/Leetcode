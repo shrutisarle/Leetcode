{
 "cells": [
  {
   "cell_type": "code",
   "execution_count": null,
   "metadata": {},
   "outputs": [],
   "source": [
    "class Solution:\n",
    "    def numDecodings(self, s: str) -> int:\n",
    "        \n",
    "        def dfs(index, map):\n",
    "            if index == len(s):\n",
    "                return 1\n",
    "            \n",
    "            if s[index] == \"0\":\n",
    "                return 0\n",
    "            \n",
    "            if index in map:\n",
    "                return map[index]\n",
    "            \n",
    "            if index+2 <= len(s) and int(s[index:index+2]) <=26:\n",
    "                single = dfs(index+1, map)\n",
    "                double = dfs(index+2, map)\n",
    "                map[index] = single+double\n",
    "            else:\n",
    "                map[index] = dfs(index+1, map)\n",
    "            \n",
    "            return map[index]\n",
    "        \n",
    "        map = {}\n",
    "        return dfs(0, map)\n",
    "            \n",
    "# TC: O(N)\n"
   ]
  }
 ],
 "metadata": {
  "kernelspec": {
   "display_name": "Python 3",
   "language": "python",
   "name": "python3"
  },
  "language_info": {
   "codemirror_mode": {
    "name": "ipython",
    "version": 3
   },
   "file_extension": ".py",
   "mimetype": "text/x-python",
   "name": "python",
   "nbconvert_exporter": "python",
   "pygments_lexer": "ipython3",
   "version": "3.8.5"
  }
 },
 "nbformat": 4,
 "nbformat_minor": 4
}
