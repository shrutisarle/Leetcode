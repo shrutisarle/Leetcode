{
 "cells": [
  {
   "cell_type": "code",
   "execution_count": 6,
   "metadata": {},
   "outputs": [
    {
     "name": "stdout",
     "output_type": "stream",
     "text": [
      "(1, 2)\n"
     ]
    }
   ],
   "source": [
    "'''\n",
    "Input: nums = [2,7,11,15], target = 9\n",
    "Output: [0,1]\n",
    "Output: Because nums[0] + nums[1] == 9, we return [0, 1].\n",
    "'''\n",
    "\n",
    "class Solution:   \n",
    "    def twoSum(self, nums, target):\n",
    "        hashset ={}\n",
    "        n = len(nums)\n",
    "        for k,v in enumerate(nums):\n",
    "            complement = target-v\n",
    "            if complement in hashset:\n",
    "                return (hashset[complement], k)\n",
    "            else:\n",
    "                hashset[v]=k\n",
    "if __name__ == '__main__':\n",
    "    # begin\n",
    "    s = Solution()\n",
    "    print (s.twoSum([3,2,4],6))\n",
    "    \n",
    "# TC: O(n)\n",
    "# SC: O(n)\n",
    "        \n",
    "'''\n",
    "Brute force:\n",
    "\n",
    "class Solution:\n",
    "    def twoSum(self, nums, target):\n",
    "        for i in range(len(nums)):\n",
    "            for j in range(i+1,(len(nums))):\n",
    "                s=nums[i]+nums[j]\n",
    "                if s == target:\n",
    "                    return [i,j]\n",
    "\n",
    "O(n2)\n",
    "O(1)\n",
    "'''        "
   ]
  },
  {
   "cell_type": "code",
   "execution_count": null,
   "metadata": {},
   "outputs": [],
   "source": []
  }
 ],
 "metadata": {
  "kernelspec": {
   "display_name": "Python 3",
   "language": "python",
   "name": "python3"
  },
  "language_info": {
   "codemirror_mode": {
    "name": "ipython",
    "version": 3
   },
   "file_extension": ".py",
   "mimetype": "text/x-python",
   "name": "python",
   "nbconvert_exporter": "python",
   "pygments_lexer": "ipython3",
   "version": "3.8.5"
  }
 },
 "nbformat": 4,
 "nbformat_minor": 4
}
