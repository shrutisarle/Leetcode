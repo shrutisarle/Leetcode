{
 "cells": [
  {
   "cell_type": "code",
   "execution_count": 7,
   "metadata": {},
   "outputs": [
    {
     "name": "stdout",
     "output_type": "stream",
     "text": [
      "219\n"
     ]
    }
   ],
   "source": [
    "# Leetcode 402: Remove K Digits and get smallest number, order matter\n",
    "\n",
    "class Solution:\n",
    "    def removeKdigits(self, num: str, k: int) -> str:\n",
    "        stack = []\n",
    "        numbers_to_remove = k\n",
    "        for current_element in num:\n",
    "            while numbers_to_remove and stack and current_element < stack[-1]:\n",
    "                stack.pop()\n",
    "                numbers_to_remove -= 1\n",
    "            stack.append(current_element)\n",
    "        ans = \"\".join(stack[0:len(num)-k]).lstrip(\"0\")\n",
    "        if len(ans):\n",
    "            return ans\n",
    "        else:\n",
    "            return \"0\"\n",
    "\n",
    "        \n",
    "if __name__ == '__main__':\n",
    "    # begin\n",
    "    s = Solution()\n",
    "    print (s.removeKdigits(\"443219\",3)) "
   ]
  },
  {
   "cell_type": "code",
   "execution_count": 4,
   "metadata": {},
   "outputs": [
    {
     "name": "stdout",
     "output_type": "stream",
     "text": [
      "8229\n"
     ]
    }
   ],
   "source": [
    "# Remove K Digits and get largest number\n",
    "\n",
    "class Solution:\n",
    "    def removeKdigits(self, num: str, k: int) -> str:\n",
    "        stack = []\n",
    "        numbers_to_remove = k\n",
    "        for current_element in num:\n",
    "            while numbers_to_remove and stack and current_element > stack[-1]:\n",
    "                stack.pop()\n",
    "                numbers_to_remove -= 1\n",
    "            stack.append(current_element)\n",
    "        ans = \"\".join(stack[0:len(num)-k]).lstrip(\"0\")\n",
    "        if len(ans):\n",
    "            return ans\n",
    "        else:\n",
    "            return \"0\"\n",
    "        \n",
    "if __name__ == '__main__':\n",
    "    # begin\n",
    "    s = Solution()\n",
    "    print (s.removeKdigits(\"1482219\",3))        "
   ]
  },
  {
   "cell_type": "code",
   "execution_count": null,
   "metadata": {},
   "outputs": [],
   "source": []
  }
 ],
 "metadata": {
  "kernelspec": {
   "display_name": "Python 3",
   "language": "python",
   "name": "python3"
  },
  "language_info": {
   "codemirror_mode": {
    "name": "ipython",
    "version": 3
   },
   "file_extension": ".py",
   "mimetype": "text/x-python",
   "name": "python",
   "nbconvert_exporter": "python",
   "pygments_lexer": "ipython3",
   "version": "3.8.5"
  }
 },
 "nbformat": 4,
 "nbformat_minor": 4
}
